{
 "cells": [
  {
   "cell_type": "code",
   "execution_count": null,
   "metadata": {},
   "outputs": [],
   "source": [
    "import cv2\n",
    "import glob\n",
    "import os\n",
    "import numpy as np\n",
    "from pathlib import Path\n",
    "import imageio\n",
    "from PIL import Image\n",
    "from matplotlib import pyplot\n",
    "\n",
    "from wmark import WaterMark"
   ]
  },
  {
   "cell_type": "code",
   "execution_count": null,
   "metadata": {},
   "outputs": [],
   "source": [
    "### MAGIC NUMBERS ###\n",
    "### MAGIC NUMBERS ###\n",
    "### MAGIC NUMBERS ###\n",
    "### MAGIC NUMBERS ###\n",
    "\n",
    "randomNum = 5"
   ]
  },
  {
   "cell_type": "code",
   "execution_count": null,
   "metadata": {},
   "outputs": [],
   "source": [
    "# Source Directory\n",
    "srcFolder = 'TestSetPrint/'\n",
    "# Source Path\n",
    "srcPth = Path(srcFolder).resolve()\n",
    "\n",
    "imgs = srcPth.glob('*.tif')\n",
    "\n",
    "dstFolder = Path(srcFolder+'marked').resolve()\n",
    "Path(dstFolder).mkdir(exist_ok = True)"
   ]
  },
  {
   "cell_type": "code",
   "execution_count": null,
   "metadata": {},
   "outputs": [],
   "source": [
    "for img in imgs:\n",
    "    \n",
    "    imgName = f\"{str(dstFolder)}/marked-{img.name}\"\n",
    "\n",
    "    # Read original image\n",
    "    imgOriginal = WaterMark.imread(img)\n",
    "\n",
    "    # Set WaterMark with seed\n",
    "    wObject = WaterMark(randomNum)\n",
    "\n",
    "    # Find optimal impact factor value\n",
    "    ImpactFactor = wObject.findImpactFactor(imgOriginal)\n",
    "\n",
    "    # Mark image\n",
    "    imgMarked = wObject.embedMark(imgOriginal, factor = ImpactFactor)\n",
    "\n",
    "    # Creating image from array\n",
    "    imgPIL = Image.fromarray(imgMarked)\n",
    "    imgPIL.mode = 'CMYK'\n",
    "    imgPIL.save(f\"{imgName}.tif\", format = 'TIFF')"
   ]
  },
  {
   "cell_type": "code",
   "execution_count": null,
   "metadata": {},
   "outputs": [],
   "source": [
    "# Source Directory\n",
    "srcFolder = 'TestSetPrint/'\n",
    "# Source Path\n",
    "srcPth = Path(srcFolder).resolve()\n",
    "\n",
    "imgs = srcPth.glob('*.tif')\n",
    "\n",
    "dstFolder = Path(srcFolder+'gcr').resolve()\n",
    "Path(dstFolder).mkdir(exist_ok = True)"
   ]
  },
  {
   "cell_type": "code",
   "execution_count": null,
   "metadata": {},
   "outputs": [],
   "source": [
    "for img in imgs:\n",
    "    \n",
    "    imgName = f\"{str(dstFolder)}/gcr-{img.name}\"\n",
    "\n",
    "    # Read original image\n",
    "    imgOriginal = WaterMark.imread(img)\n",
    "\n",
    "    # Set WaterMark with seed\n",
    "    wObject = WaterMark(randomNum)\n",
    "\n",
    "    # Find optimal impact factor value\n",
    "    ImpactFactor = wObject.findImpactFactor(imgOriginal)\n",
    "\n",
    "    # Mark image\n",
    "    imgMarked = wObject.embedMark(imgOriginal, factor = ImpactFactor) \n",
    "    \n",
    "    # GCR Masking\n",
    "    imgGCR = WaterMark.gcrMasking(imgOriginal, imgMarked)\n",
    "\n",
    "    # Creating image from array\n",
    "    imgPIL = Image.fromarray(imgGCR)\n",
    "    imgPIL.mode = 'CMYK'\n",
    "    imgPIL.save(f\"{imgName}.tif\", format = 'TIFF')"
   ]
  }
 ],
 "metadata": {
  "kernelspec": {
   "display_name": "Python 3",
   "language": "python",
   "name": "python3"
  },
  "language_info": {
   "codemirror_mode": {
    "name": "ipython",
    "version": 3
   },
   "file_extension": ".py",
   "mimetype": "text/x-python",
   "name": "python",
   "nbconvert_exporter": "python",
   "pygments_lexer": "ipython3",
   "version": "3.6.8"
  }
 },
 "nbformat": 4,
 "nbformat_minor": 2
}
