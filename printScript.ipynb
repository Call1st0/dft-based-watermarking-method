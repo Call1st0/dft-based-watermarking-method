{
 "cells": [
  {
   "cell_type": "code",
   "execution_count": 2,
   "metadata": {},
   "outputs": [
    {
     "ename": "ImportError",
     "evalue": "cannot import name 'imsave' from 'scipy.misc' (/Users/zgebac/miniconda3/envs/img-proc/lib/python3.7/site-packages/scipy/misc/__init__.py)",
     "output_type": "error",
     "traceback": [
      "\u001b[0;31m---------------------------------------------------------------------------\u001b[0m",
      "\u001b[0;31mImportError\u001b[0m                               Traceback (most recent call last)",
      "\u001b[0;32m<ipython-input-2-0e7243699e05>\u001b[0m in \u001b[0;36m<module>\u001b[0;34m\u001b[0m\n\u001b[1;32m      7\u001b[0m \u001b[0;32mfrom\u001b[0m \u001b[0mPIL\u001b[0m \u001b[0;32mimport\u001b[0m \u001b[0mImage\u001b[0m\u001b[0;34m\u001b[0m\u001b[0;34m\u001b[0m\u001b[0m\n\u001b[1;32m      8\u001b[0m \u001b[0;32mimport\u001b[0m \u001b[0mscipy\u001b[0m\u001b[0;34m\u001b[0m\u001b[0;34m\u001b[0m\u001b[0m\n\u001b[0;32m----> 9\u001b[0;31m \u001b[0;32mfrom\u001b[0m \u001b[0mscipy\u001b[0m\u001b[0;34m.\u001b[0m\u001b[0mmisc\u001b[0m \u001b[0;32mimport\u001b[0m \u001b[0mimsave\u001b[0m\u001b[0;34m\u001b[0m\u001b[0;34m\u001b[0m\u001b[0m\n\u001b[0m\u001b[1;32m     10\u001b[0m \u001b[0;34m\u001b[0m\u001b[0m\n\u001b[1;32m     11\u001b[0m \u001b[0;32mfrom\u001b[0m \u001b[0mwmark\u001b[0m \u001b[0;32mimport\u001b[0m \u001b[0mWaterMark\u001b[0m\u001b[0;34m\u001b[0m\u001b[0;34m\u001b[0m\u001b[0m\n",
      "\u001b[0;31mImportError\u001b[0m: cannot import name 'imsave' from 'scipy.misc' (/Users/zgebac/miniconda3/envs/img-proc/lib/python3.7/site-packages/scipy/misc/__init__.py)"
     ]
    }
   ],
   "source": [
    "import cv2\n",
    "import glob\n",
    "import os\n",
    "import numpy as np\n",
    "from pathlib import Path\n",
    "import imageio\n",
    "from PIL import Image\n",
    "import scipy\n",
    "from scipy.misc import imsave\n",
    "\n",
    "from wmark import WaterMark"
   ]
  },
  {
   "cell_type": "code",
   "execution_count": null,
   "metadata": {},
   "outputs": [],
   "source": [
    "### MAGIC NUMBERS ###\n",
    "### MAGIC NUMBERS ###\n",
    "### MAGIC NUMBERS ###\n",
    "### MAGIC NUMBERS ###\n",
    "\n",
    "randomNum = 5"
   ]
  },
  {
   "cell_type": "code",
   "execution_count": null,
   "metadata": {},
   "outputs": [],
   "source": [
    "# Source Directory\n",
    "src_folder = 'TestSetPrint/'\n",
    "# Source Path\n",
    "src_pth = Path(src_folder).resolve()"
   ]
  },
  {
   "cell_type": "code",
   "execution_count": null,
   "metadata": {},
   "outputs": [],
   "source": [
    "# Marking\n",
    "\n",
    "imgs = src_pth.glob('*.tif')\n",
    "\n",
    "# Iterate through scaling and saving\n",
    "for img in imgs:\n",
    "\n",
    "    # Read original image\n",
    "    imgOriginal = WaterMark.imread(img)\n",
    "    print(img)\n",
    "\n",
    "    # Set WaterMark with seed\n",
    "    wObject = WaterMark(randomNum)\n",
    "\n",
    "    # Find optimal impact factor value\n",
    "    ImpactFactor = wObject.findImpactFactor(imgOriginal)\n",
    "\n",
    "    # Mark image\n",
    "    imgMarked = wObject.embedMark(imgOriginal, factor = ImpactFactor)\n",
    "    pilMarked = Image.fromarray(imgMarked)\n",
    "    # Naming image\n",
    "    imgMarkedName = f\"marked-{str(img.name)}\"\n",
    "    # Saving image\n",
    "    # cv2.imwrite(imgMarkedName, imgMarked)\n",
    "    scipy.misc.imsave(imgMarkedName, imgMarked)\n",
    "\n",
    "    # Mask image with GCR\n",
    "    imgGCR = WaterMark.gcrMasking(imgOriginal, imgMarked)\n",
    "    pilGCR = Image.fromarray(imgGCR)\n",
    "    # Naming image\n",
    "    imgGCRName = f\"gcr-{str(img.name)}\"\n",
    "    # Saving image\n",
    "    # cv2.imwrite(imgGCRName, imgGCR)\n",
    "    # imgGCR.save(imgGCRName)"
   ]
  },
  {
   "cell_type": "code",
   "execution_count": null,
   "metadata": {},
   "outputs": [],
   "source": []
  }
 ],
 "metadata": {
  "kernelspec": {
   "display_name": "Python 3",
   "language": "python",
   "name": "python3"
  },
  "language_info": {
   "codemirror_mode": {
    "name": "ipython",
    "version": 3
   },
   "file_extension": ".py",
   "mimetype": "text/x-python",
   "name": "python",
   "nbconvert_exporter": "python",
   "pygments_lexer": "ipython3",
   "version": "3.7.3"
  }
 },
 "nbformat": 4,
 "nbformat_minor": 2
}
