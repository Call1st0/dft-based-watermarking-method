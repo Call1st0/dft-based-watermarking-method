{
 "cells": [
  {
   "cell_type": "code",
   "execution_count": 43,
   "metadata": {},
   "outputs": [],
   "source": [
    "import pandas as pd\n",
    "import numpy as np\n",
    "import matplotlib.pyplot as plt"
   ]
  },
  {
   "cell_type": "code",
   "execution_count": 44,
   "metadata": {},
   "outputs": [],
   "source": [
    "# Importing CSV files - different seeds\n",
    "dfMarked = pd.read_csv('metricDataFrameMarked.csv')\n",
    "dfGCR = pd.read_csv('metricDataFrameGCR.csv')\n",
    "\n",
    "# Importing CSV files - same seed (26)\n",
    "dfMarked26 = pd.read_csv('metricDataFrameMarked26.csv')\n",
    "dfGCR26 = pd.read_csv('metricDataFrameGCR26.csv')"
   ]
  },
  {
   "cell_type": "code",
   "execution_count": 45,
   "metadata": {},
   "outputs": [],
   "source": [
    "dfMarked26 = dfMarked26.drop(['Unnamed: 0'], axis = 1)\n",
    "dfGCR26 = dfGCR26.drop(['Unnamed: 0'], axis = 1)"
   ]
  },
  {
   "cell_type": "code",
   "execution_count": 46,
   "metadata": {},
   "outputs": [],
   "source": [
    "#Getting mean values from DataFrames; Dropping first row\n",
    "dfMarkedMean = dfMarked.mean()\n",
    "dfMarkedMean = dfMarkedMean.drop(['Unnamed: 0'], axis = 0)\n",
    "\n",
    "dfMarked26Mean = dfMarked26.mean()\n",
    "\n",
    "dfGCRMean = dfGCR.mean()\n",
    "dfGCRMean = dfGCRMean.drop(['Unnamed: 0'], axis = 0)\n",
    "\n",
    "dfGCR26Mean = dfGCR26.mean()"
   ]
  },
  {
   "cell_type": "code",
   "execution_count": 47,
   "metadata": {},
   "outputs": [],
   "source": [
    "# Creating DataFrame for comparing Marked and GCR results - different seeds\n",
    "dfCompare = pd.concat([dfMarkedMean, dfGCRMean], axis = 1)\n",
    "dfCompare.columns = ['Marked', 'GCR']\n",
    "# dfCompare"
   ]
  },
  {
   "cell_type": "code",
   "execution_count": 48,
   "metadata": {},
   "outputs": [
    {
     "data": {
      "text/html": [
       "<div>\n",
       "<style scoped>\n",
       "    .dataframe tbody tr th:only-of-type {\n",
       "        vertical-align: middle;\n",
       "    }\n",
       "\n",
       "    .dataframe tbody tr th {\n",
       "        vertical-align: top;\n",
       "    }\n",
       "\n",
       "    .dataframe thead th {\n",
       "        text-align: right;\n",
       "    }\n",
       "</style>\n",
       "<table border=\"1\" class=\"dataframe\">\n",
       "  <thead>\n",
       "    <tr style=\"text-align: right;\">\n",
       "      <th></th>\n",
       "      <th>Original</th>\n",
       "      <th>Cropped</th>\n",
       "      <th>Scaled</th>\n",
       "      <th>Rotated</th>\n",
       "      <th>Affined</th>\n",
       "      <th>2D Convoluted</th>\n",
       "      <th>Blurred</th>\n",
       "      <th>Noised</th>\n",
       "      <th>GCR / Marked</th>\n",
       "    </tr>\n",
       "  </thead>\n",
       "  <tbody>\n",
       "    <tr>\n",
       "      <td>0</td>\n",
       "      <td>0.225971</td>\n",
       "      <td>0.261874</td>\n",
       "      <td>0.784580</td>\n",
       "      <td>0.634314</td>\n",
       "      <td>0.241142</td>\n",
       "      <td>0.741001</td>\n",
       "      <td>0.742442</td>\n",
       "      <td>0.777291</td>\n",
       "      <td>0.790813</td>\n",
       "    </tr>\n",
       "    <tr>\n",
       "      <td>1</td>\n",
       "      <td>0.246829</td>\n",
       "      <td>0.313349</td>\n",
       "      <td>0.771964</td>\n",
       "      <td>0.606648</td>\n",
       "      <td>0.231903</td>\n",
       "      <td>0.779171</td>\n",
       "      <td>0.779950</td>\n",
       "      <td>0.740934</td>\n",
       "      <td>0.777953</td>\n",
       "    </tr>\n",
       "    <tr>\n",
       "      <td>2</td>\n",
       "      <td>0.230147</td>\n",
       "      <td>0.198607</td>\n",
       "      <td>0.854011</td>\n",
       "      <td>0.692826</td>\n",
       "      <td>0.235628</td>\n",
       "      <td>0.850445</td>\n",
       "      <td>0.850618</td>\n",
       "      <td>0.830836</td>\n",
       "      <td>0.863043</td>\n",
       "    </tr>\n",
       "    <tr>\n",
       "      <td>3</td>\n",
       "      <td>0.229194</td>\n",
       "      <td>0.247070</td>\n",
       "      <td>0.797391</td>\n",
       "      <td>0.614048</td>\n",
       "      <td>0.240521</td>\n",
       "      <td>0.788535</td>\n",
       "      <td>0.790055</td>\n",
       "      <td>0.766378</td>\n",
       "      <td>0.802662</td>\n",
       "    </tr>\n",
       "    <tr>\n",
       "      <td>4</td>\n",
       "      <td>0.236505</td>\n",
       "      <td>0.224704</td>\n",
       "      <td>0.752134</td>\n",
       "      <td>0.631386</td>\n",
       "      <td>0.214113</td>\n",
       "      <td>0.737853</td>\n",
       "      <td>0.738919</td>\n",
       "      <td>0.727230</td>\n",
       "      <td>0.763352</td>\n",
       "    </tr>\n",
       "    <tr>\n",
       "      <td>...</td>\n",
       "      <td>...</td>\n",
       "      <td>...</td>\n",
       "      <td>...</td>\n",
       "      <td>...</td>\n",
       "      <td>...</td>\n",
       "      <td>...</td>\n",
       "      <td>...</td>\n",
       "      <td>...</td>\n",
       "      <td>...</td>\n",
       "    </tr>\n",
       "    <tr>\n",
       "      <td>996</td>\n",
       "      <td>0.279496</td>\n",
       "      <td>0.211973</td>\n",
       "      <td>0.748283</td>\n",
       "      <td>0.619159</td>\n",
       "      <td>0.246126</td>\n",
       "      <td>0.761392</td>\n",
       "      <td>0.761497</td>\n",
       "      <td>0.674887</td>\n",
       "      <td>0.759588</td>\n",
       "    </tr>\n",
       "    <tr>\n",
       "      <td>997</td>\n",
       "      <td>0.195921</td>\n",
       "      <td>0.217635</td>\n",
       "      <td>0.868812</td>\n",
       "      <td>0.663777</td>\n",
       "      <td>0.229128</td>\n",
       "      <td>0.871669</td>\n",
       "      <td>0.871804</td>\n",
       "      <td>0.830690</td>\n",
       "      <td>0.875879</td>\n",
       "    </tr>\n",
       "    <tr>\n",
       "      <td>998</td>\n",
       "      <td>0.239132</td>\n",
       "      <td>0.239187</td>\n",
       "      <td>0.629797</td>\n",
       "      <td>0.507114</td>\n",
       "      <td>0.255134</td>\n",
       "      <td>0.631687</td>\n",
       "      <td>0.631975</td>\n",
       "      <td>0.613352</td>\n",
       "      <td>0.655651</td>\n",
       "    </tr>\n",
       "    <tr>\n",
       "      <td>999</td>\n",
       "      <td>0.200021</td>\n",
       "      <td>0.198172</td>\n",
       "      <td>0.812964</td>\n",
       "      <td>0.644769</td>\n",
       "      <td>0.246512</td>\n",
       "      <td>0.809392</td>\n",
       "      <td>0.810248</td>\n",
       "      <td>0.773500</td>\n",
       "      <td>0.821361</td>\n",
       "    </tr>\n",
       "    <tr>\n",
       "      <td>1000</td>\n",
       "      <td>0.256028</td>\n",
       "      <td>0.244876</td>\n",
       "      <td>0.687285</td>\n",
       "      <td>0.572282</td>\n",
       "      <td>0.233155</td>\n",
       "      <td>0.685946</td>\n",
       "      <td>0.686373</td>\n",
       "      <td>0.670999</td>\n",
       "      <td>0.691487</td>\n",
       "    </tr>\n",
       "  </tbody>\n",
       "</table>\n",
       "<p>1001 rows × 9 columns</p>\n",
       "</div>"
      ],
      "text/plain": [
       "      Original   Cropped    Scaled   Rotated   Affined  2D Convoluted  \\\n",
       "0     0.225971  0.261874  0.784580  0.634314  0.241142       0.741001   \n",
       "1     0.246829  0.313349  0.771964  0.606648  0.231903       0.779171   \n",
       "2     0.230147  0.198607  0.854011  0.692826  0.235628       0.850445   \n",
       "3     0.229194  0.247070  0.797391  0.614048  0.240521       0.788535   \n",
       "4     0.236505  0.224704  0.752134  0.631386  0.214113       0.737853   \n",
       "...        ...       ...       ...       ...       ...            ...   \n",
       "996   0.279496  0.211973  0.748283  0.619159  0.246126       0.761392   \n",
       "997   0.195921  0.217635  0.868812  0.663777  0.229128       0.871669   \n",
       "998   0.239132  0.239187  0.629797  0.507114  0.255134       0.631687   \n",
       "999   0.200021  0.198172  0.812964  0.644769  0.246512       0.809392   \n",
       "1000  0.256028  0.244876  0.687285  0.572282  0.233155       0.685946   \n",
       "\n",
       "       Blurred    Noised  GCR / Marked  \n",
       "0     0.742442  0.777291      0.790813  \n",
       "1     0.779950  0.740934      0.777953  \n",
       "2     0.850618  0.830836      0.863043  \n",
       "3     0.790055  0.766378      0.802662  \n",
       "4     0.738919  0.727230      0.763352  \n",
       "...        ...       ...           ...  \n",
       "996   0.761497  0.674887      0.759588  \n",
       "997   0.871804  0.830690      0.875879  \n",
       "998   0.631975  0.613352      0.655651  \n",
       "999   0.810248  0.773500      0.821361  \n",
       "1000  0.686373  0.670999      0.691487  \n",
       "\n",
       "[1001 rows x 9 columns]"
      ]
     },
     "execution_count": 48,
     "metadata": {},
     "output_type": "execute_result"
    }
   ],
   "source": [
    "dfMarked26"
   ]
  },
  {
   "cell_type": "code",
   "execution_count": 49,
   "metadata": {},
   "outputs": [
    {
     "data": {
      "text/plain": [
       "0.3"
      ]
     },
     "execution_count": 49,
     "metadata": {},
     "output_type": "execute_result"
    }
   ],
   "source": [
    "# threshold = dfMarked26['Original'].median()\n",
    "threshold = 0.3\n",
    "threshold"
   ]
  },
  {
   "cell_type": "code",
   "execution_count": 50,
   "metadata": {},
   "outputs": [],
   "source": [
    "OriginalOverThreshold = len(dfMarked26[dfMarked26['Original'] > threshold])\n",
    "OriginalUnderThreshold = len(dfMarked26[dfMarked26['Original'] < threshold])\n",
    "\n",
    "MarkedOverThreshold = len(dfMarked26[dfMarked26['GCR / Marked'] > threshold])\n",
    "MarkedUnderThreshold = len(dfMarked26[dfMarked26['GCR / Marked'] < threshold])\n",
    "\n",
    "CroppedOverThreshold = len(dfMarked26[dfMarked26['Cropped'] > threshold])\n",
    "CroppedUnderThreshold = len(dfMarked26[dfMarked26['Cropped'] < threshold])\n",
    "\n",
    "ScaledOverThreshold = len(dfMarked26[dfMarked26['Scaled'] > threshold])\n",
    "ScaledUnderThreshold = len(dfMarked26[dfMarked26['Scaled'] < threshold])\n",
    "\n",
    "RotatedOverThreshold = len(dfMarked26[dfMarked26['Rotated'] > threshold])\n",
    "RotatedUnderThreshold = len(dfMarked26[dfMarked26['Rotated'] < threshold])\n",
    "\n",
    "AffinedOverThreshold = len(dfMarked26[dfMarked26['Affined'] > threshold])\n",
    "AffinedUnderThreshold = len(dfMarked26[dfMarked26['Affined'] < threshold])\n",
    "\n",
    "ConvolutedOverThreshold = len(dfMarked26[dfMarked26['2D Convoluted'] > threshold])\n",
    "ConvolutedUnderThreshold = len(dfMarked26[dfMarked26['2D Convoluted'] < threshold])\n",
    "\n",
    "BlurredOverThreshold = len(dfMarked26[dfMarked26['Blurred'] > threshold])\n",
    "BlurredUnderThreshold = len(dfMarked26[dfMarked26['Blurred'] < threshold])\n",
    "\n",
    "NoisedOverThreshold = len(dfMarked26[dfMarked26['Noised'] > threshold])\n",
    "NoisedUnderThreshold = len(dfMarked26[dfMarked26['Noised'] < threshold])"
   ]
  },
  {
   "cell_type": "code",
   "execution_count": 51,
   "metadata": {},
   "outputs": [],
   "source": [
    "OriginalRecall = OriginalOverThreshold / (OriginalUnderThreshold + OriginalOverThreshold)"
   ]
  },
  {
   "cell_type": "code",
   "execution_count": 52,
   "metadata": {},
   "outputs": [],
   "source": [
    "MarkedRecall = MarkedOverThreshold / (MarkedUnderThreshold + MarkedOverThreshold)"
   ]
  },
  {
   "cell_type": "code",
   "execution_count": 53,
   "metadata": {},
   "outputs": [],
   "source": [
    "CroppedRecall = CroppedOverThreshold / (CroppedUnderThreshold + CroppedOverThreshold)"
   ]
  },
  {
   "cell_type": "code",
   "execution_count": 54,
   "metadata": {},
   "outputs": [],
   "source": [
    "ScaledRecall = ScaledOverThreshold / (ScaledUnderThreshold + ScaledOverThreshold)"
   ]
  },
  {
   "cell_type": "code",
   "execution_count": 55,
   "metadata": {},
   "outputs": [],
   "source": [
    "RotatedRecall = RotatedOverThreshold / (RotatedUnderThreshold + RotatedOverThreshold)"
   ]
  },
  {
   "cell_type": "code",
   "execution_count": 56,
   "metadata": {},
   "outputs": [],
   "source": [
    "AffinedRecall = AffinedOverThreshold / (AffinedUnderThreshold + AffinedOverThreshold)"
   ]
  },
  {
   "cell_type": "code",
   "execution_count": 57,
   "metadata": {},
   "outputs": [],
   "source": [
    "ConvolutedRecall = ConvolutedOverThreshold / (ConvolutedUnderThreshold + ConvolutedOverThreshold)"
   ]
  },
  {
   "cell_type": "code",
   "execution_count": 58,
   "metadata": {},
   "outputs": [],
   "source": [
    "BlurredRecall = BlurredOverThreshold / (BlurredUnderThreshold + BlurredOverThreshold)"
   ]
  },
  {
   "cell_type": "code",
   "execution_count": 59,
   "metadata": {},
   "outputs": [],
   "source": [
    "NoisedRecall = NoisedOverThreshold / (NoisedUnderThreshold + NoisedOverThreshold)"
   ]
  },
  {
   "cell_type": "code",
   "execution_count": 60,
   "metadata": {},
   "outputs": [],
   "source": [
    "dfThreshold = pd.DataFrame({'Original':[OriginalRecall],\n",
    "                            'Marked':[MarkedRecall],\n",
    "                            'Cropped':[CroppedRecall],\n",
    "                            'Scaled':[ScaledRecall],\n",
    "                            'Rotated':[RotatedRecall],\n",
    "                            'Affined':[AffinedRecall],\n",
    "                            'Convoluted':[ConvolutedRecall],\n",
    "                            'Blurred':[BlurredRecall],\n",
    "                            'Noised':[NoisedRecall]})"
   ]
  },
  {
   "cell_type": "code",
   "execution_count": 61,
   "metadata": {},
   "outputs": [],
   "source": [
    "dfThresholdTransposed = dfThreshold.transpose()\n",
    "dfThresholdTransposed.columns = [f\"Recall {round(threshold,2)}\"]"
   ]
  },
  {
   "cell_type": "code",
   "execution_count": 62,
   "metadata": {
    "scrolled": true
   },
   "outputs": [
    {
     "data": {
      "text/html": [
       "<div>\n",
       "<style scoped>\n",
       "    .dataframe tbody tr th:only-of-type {\n",
       "        vertical-align: middle;\n",
       "    }\n",
       "\n",
       "    .dataframe tbody tr th {\n",
       "        vertical-align: top;\n",
       "    }\n",
       "\n",
       "    .dataframe thead th {\n",
       "        text-align: right;\n",
       "    }\n",
       "</style>\n",
       "<table border=\"1\" class=\"dataframe\">\n",
       "  <thead>\n",
       "    <tr style=\"text-align: right;\">\n",
       "      <th></th>\n",
       "      <th>Recall 0.3</th>\n",
       "    </tr>\n",
       "  </thead>\n",
       "  <tbody>\n",
       "    <tr>\n",
       "      <td>Original</td>\n",
       "      <td>0.018981</td>\n",
       "    </tr>\n",
       "    <tr>\n",
       "      <td>Marked</td>\n",
       "      <td>0.997003</td>\n",
       "    </tr>\n",
       "    <tr>\n",
       "      <td>Cropped</td>\n",
       "      <td>0.011988</td>\n",
       "    </tr>\n",
       "    <tr>\n",
       "      <td>Scaled</td>\n",
       "      <td>0.996004</td>\n",
       "    </tr>\n",
       "    <tr>\n",
       "      <td>Rotated</td>\n",
       "      <td>0.996004</td>\n",
       "    </tr>\n",
       "    <tr>\n",
       "      <td>Affined</td>\n",
       "      <td>0.000999</td>\n",
       "    </tr>\n",
       "    <tr>\n",
       "      <td>Convoluted</td>\n",
       "      <td>0.997003</td>\n",
       "    </tr>\n",
       "    <tr>\n",
       "      <td>Blurred</td>\n",
       "      <td>0.997003</td>\n",
       "    </tr>\n",
       "    <tr>\n",
       "      <td>Noised</td>\n",
       "      <td>0.989011</td>\n",
       "    </tr>\n",
       "  </tbody>\n",
       "</table>\n",
       "</div>"
      ],
      "text/plain": [
       "            Recall 0.3\n",
       "Original      0.018981\n",
       "Marked        0.997003\n",
       "Cropped       0.011988\n",
       "Scaled        0.996004\n",
       "Rotated       0.996004\n",
       "Affined       0.000999\n",
       "Convoluted    0.997003\n",
       "Blurred       0.997003\n",
       "Noised        0.989011"
      ]
     },
     "execution_count": 62,
     "metadata": {},
     "output_type": "execute_result"
    }
   ],
   "source": [
    "dfThresholdTransposed"
   ]
  },
  {
   "cell_type": "code",
   "execution_count": 117,
   "metadata": {},
   "outputs": [
    {
     "name": "stdout",
     "output_type": "stream",
     "text": [
      "1001 0 0 0\n",
      "1001 0 1 1\n",
      "965 36 2 2\n",
      "19 982 3 3\n",
      "0 1001 4 4\n",
      "0 1001 5 5\n",
      "0 1001 6 6\n",
      "0 1001 7 7\n",
      "0 1001 8 8\n",
      "0 1001 9 9\n"
     ]
    }
   ],
   "source": [
    "rangeThreshold = range(0, 10)\n",
    "\n",
    "resultsOver = np.zeros([1, len(rangeThreshold)])\n",
    "resultsUnder = np.zeros([1, len(rangeThreshold)])\n",
    "\n",
    "counter = 0\n",
    "\n",
    "for i in rangeThreshold:\n",
    "    OriginalOverThreshold = len(dfMarked26[dfMarked26['Original'] > (i / 10)])\n",
    "    OriginalUnderThreshold = len(dfMarked26[dfMarked26['Original'] < (i / 10)])\n",
    "    \n",
    "    print(OriginalOverThreshold, OriginalUnderThreshold, i, counter)\n",
    "    \n",
    "    resultsOver[0, counter] = OriginalOverThreshold / (OriginalOverThreshold + OriginalUnderThreshold)\n",
    "    resultsUnder[0, counter] = OriginalUnderThreshold / (OriginalOverThreshold + OriginalUnderThreshold)\n",
    "    \n",
    "    counter += 1\n",
    "    \n",
    "    dfOver = pd.DataFrame(resultsOver)\n",
    "    dfUnder = pd.DataFrame(resultsUnder)"
   ]
  },
  {
   "cell_type": "code",
   "execution_count": 118,
   "metadata": {},
   "outputs": [
    {
     "data": {
      "text/html": [
       "<div>\n",
       "<style scoped>\n",
       "    .dataframe tbody tr th:only-of-type {\n",
       "        vertical-align: middle;\n",
       "    }\n",
       "\n",
       "    .dataframe tbody tr th {\n",
       "        vertical-align: top;\n",
       "    }\n",
       "\n",
       "    .dataframe thead th {\n",
       "        text-align: right;\n",
       "    }\n",
       "</style>\n",
       "<table border=\"1\" class=\"dataframe\">\n",
       "  <thead>\n",
       "    <tr style=\"text-align: right;\">\n",
       "      <th></th>\n",
       "      <th>0</th>\n",
       "      <th>1</th>\n",
       "      <th>2</th>\n",
       "      <th>3</th>\n",
       "      <th>4</th>\n",
       "      <th>5</th>\n",
       "      <th>6</th>\n",
       "      <th>7</th>\n",
       "      <th>8</th>\n",
       "      <th>9</th>\n",
       "    </tr>\n",
       "  </thead>\n",
       "  <tbody>\n",
       "    <tr>\n",
       "      <td>0</td>\n",
       "      <td>1.0</td>\n",
       "      <td>1.0</td>\n",
       "      <td>0.964036</td>\n",
       "      <td>0.018981</td>\n",
       "      <td>0.0</td>\n",
       "      <td>0.0</td>\n",
       "      <td>0.0</td>\n",
       "      <td>0.0</td>\n",
       "      <td>0.0</td>\n",
       "      <td>0.0</td>\n",
       "    </tr>\n",
       "  </tbody>\n",
       "</table>\n",
       "</div>"
      ],
      "text/plain": [
       "     0    1         2         3    4    5    6    7    8    9\n",
       "0  1.0  1.0  0.964036  0.018981  0.0  0.0  0.0  0.0  0.0  0.0"
      ]
     },
     "execution_count": 118,
     "metadata": {},
     "output_type": "execute_result"
    }
   ],
   "source": [
    "dfOver"
   ]
  },
  {
   "cell_type": "code",
   "execution_count": 119,
   "metadata": {},
   "outputs": [
    {
     "data": {
      "text/html": [
       "<div>\n",
       "<style scoped>\n",
       "    .dataframe tbody tr th:only-of-type {\n",
       "        vertical-align: middle;\n",
       "    }\n",
       "\n",
       "    .dataframe tbody tr th {\n",
       "        vertical-align: top;\n",
       "    }\n",
       "\n",
       "    .dataframe thead th {\n",
       "        text-align: right;\n",
       "    }\n",
       "</style>\n",
       "<table border=\"1\" class=\"dataframe\">\n",
       "  <thead>\n",
       "    <tr style=\"text-align: right;\">\n",
       "      <th></th>\n",
       "      <th>0</th>\n",
       "      <th>1</th>\n",
       "      <th>2</th>\n",
       "      <th>3</th>\n",
       "      <th>4</th>\n",
       "      <th>5</th>\n",
       "      <th>6</th>\n",
       "      <th>7</th>\n",
       "      <th>8</th>\n",
       "      <th>9</th>\n",
       "    </tr>\n",
       "  </thead>\n",
       "  <tbody>\n",
       "    <tr>\n",
       "      <td>0</td>\n",
       "      <td>0.0</td>\n",
       "      <td>0.0</td>\n",
       "      <td>0.035964</td>\n",
       "      <td>0.981019</td>\n",
       "      <td>1.0</td>\n",
       "      <td>1.0</td>\n",
       "      <td>1.0</td>\n",
       "      <td>1.0</td>\n",
       "      <td>1.0</td>\n",
       "      <td>1.0</td>\n",
       "    </tr>\n",
       "  </tbody>\n",
       "</table>\n",
       "</div>"
      ],
      "text/plain": [
       "     0    1         2         3    4    5    6    7    8    9\n",
       "0  0.0  0.0  0.035964  0.981019  1.0  1.0  1.0  1.0  1.0  1.0"
      ]
     },
     "execution_count": 119,
     "metadata": {},
     "output_type": "execute_result"
    }
   ],
   "source": [
    "dfUnder"
   ]
  },
  {
   "cell_type": "code",
   "execution_count": 121,
   "metadata": {},
   "outputs": [
    {
     "data": {
      "text/html": [
       "<div>\n",
       "<style scoped>\n",
       "    .dataframe tbody tr th:only-of-type {\n",
       "        vertical-align: middle;\n",
       "    }\n",
       "\n",
       "    .dataframe tbody tr th {\n",
       "        vertical-align: top;\n",
       "    }\n",
       "\n",
       "    .dataframe thead th {\n",
       "        text-align: right;\n",
       "    }\n",
       "</style>\n",
       "<table border=\"1\" class=\"dataframe\">\n",
       "  <thead>\n",
       "    <tr style=\"text-align: right;\">\n",
       "      <th></th>\n",
       "      <th>0</th>\n",
       "      <th>1</th>\n",
       "      <th>2</th>\n",
       "      <th>3</th>\n",
       "      <th>4</th>\n",
       "      <th>5</th>\n",
       "      <th>6</th>\n",
       "      <th>7</th>\n",
       "      <th>8</th>\n",
       "      <th>9</th>\n",
       "    </tr>\n",
       "  </thead>\n",
       "  <tbody>\n",
       "    <tr>\n",
       "      <td>0</td>\n",
       "      <td>1.0</td>\n",
       "      <td>1.0</td>\n",
       "      <td>0.964036</td>\n",
       "      <td>0.018981</td>\n",
       "      <td>0.0</td>\n",
       "      <td>0.0</td>\n",
       "      <td>0.0</td>\n",
       "      <td>0.0</td>\n",
       "      <td>0.0</td>\n",
       "      <td>0.0</td>\n",
       "    </tr>\n",
       "    <tr>\n",
       "      <td>0</td>\n",
       "      <td>0.0</td>\n",
       "      <td>0.0</td>\n",
       "      <td>0.035964</td>\n",
       "      <td>0.981019</td>\n",
       "      <td>1.0</td>\n",
       "      <td>1.0</td>\n",
       "      <td>1.0</td>\n",
       "      <td>1.0</td>\n",
       "      <td>1.0</td>\n",
       "      <td>1.0</td>\n",
       "    </tr>\n",
       "  </tbody>\n",
       "</table>\n",
       "</div>"
      ],
      "text/plain": [
       "     0    1         2         3    4    5    6    7    8    9\n",
       "0  1.0  1.0  0.964036  0.018981  0.0  0.0  0.0  0.0  0.0  0.0\n",
       "0  0.0  0.0  0.035964  0.981019  1.0  1.0  1.0  1.0  1.0  1.0"
      ]
     },
     "execution_count": 121,
     "metadata": {},
     "output_type": "execute_result"
    }
   ],
   "source": [
    "dfOverUnder = pd.concat([dfOver, dfUnder])\n",
    "dfOverUnder"
   ]
  },
  {
   "cell_type": "code",
   "execution_count": 63,
   "metadata": {},
   "outputs": [],
   "source": [
    "import seaborn as sns\n",
    "# roc curve and auc score\n",
    "from sklearn.datasets import make_classification\n",
    "from sklearn.neighbors import KNeighborsClassifier\n",
    "from sklearn.ensemble import RandomForestClassifier\n",
    "from sklearn.model_selection import train_test_split\n",
    "from sklearn.metrics import roc_curve\n",
    "from sklearn.metrics import roc_auc_score"
   ]
  },
  {
   "cell_type": "code",
   "execution_count": 74,
   "metadata": {},
   "outputs": [],
   "source": [
    "def plot_roc_curve(TP, FP):\n",
    "    plt.plot(TP, FP, color='orange', label='ROC')\n",
    "    plt.plot([0, 1], [0, 1], color='darkblue', linestyle='--')\n",
    "    plt.xlabel('Threshold')\n",
    "    plt.ylabel('Recall')\n",
    "    plt.title('Receiver Operating Characteristic (ROC) Curve')\n",
    "    plt.legend()\n",
    "    plt.show()"
   ]
  },
  {
   "cell_type": "code",
   "execution_count": 75,
   "metadata": {
    "scrolled": true
   },
   "outputs": [
    {
     "data": {
      "text/plain": [
       "0.01898101898101898"
      ]
     },
     "execution_count": 75,
     "metadata": {},
     "output_type": "execute_result"
    }
   ],
   "source": [
    "TP = OriginalOverThreshold / (OriginalOverThreshold + OriginalUnderThreshold)\n",
    "TP"
   ]
  },
  {
   "cell_type": "code",
   "execution_count": 76,
   "metadata": {},
   "outputs": [
    {
     "data": {
      "text/plain": [
       "0.981018981018981"
      ]
     },
     "execution_count": 76,
     "metadata": {},
     "output_type": "execute_result"
    }
   ],
   "source": [
    "FP = OriginalUnderThreshold / (OriginalOverThreshold + OriginalUnderThreshold)\n",
    "FP"
   ]
  },
  {
   "cell_type": "code",
   "execution_count": 77,
   "metadata": {
    "scrolled": true
   },
   "outputs": [
    {
     "data": {
      "text/plain": [
       "0.3"
      ]
     },
     "execution_count": 77,
     "metadata": {},
     "output_type": "execute_result"
    }
   ],
   "source": [
    "threshold"
   ]
  },
  {
   "cell_type": "code",
   "execution_count": 87,
   "metadata": {},
   "outputs": [
    {
     "data": {
      "image/png": "[encoded data removed]",
      "text/plain": [
       "<Figure size 432x288 with 1 Axes>"
      ]
     },
     "metadata": {},
     "output_type": "display_data"
    }
   ],
   "source": [
    "plot_roc_curve(TP, FP)"
   ]
  },
  {
   "cell_type": "code",
   "execution_count": null,
   "metadata": {},
   "outputs": [],
   "source": []
  }
 ],
 "metadata": {
  "kernelspec": {
   "display_name": "Python 3",
   "language": "python",
   "name": "python3"
  },
  "language_info": {
   "codemirror_mode": {
    "name": "ipython",
    "version": 3
   },
   "file_extension": ".py",
   "mimetype": "text/x-python",
   "name": "python",
   "nbconvert_exporter": "python",
   "pygments_lexer": "ipython3",
   "version": "3.6.8"
  }
 },
 "nbformat": 4,
 "nbformat_minor": 2
}
