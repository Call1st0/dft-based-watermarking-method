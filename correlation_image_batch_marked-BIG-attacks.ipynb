{
 "cells": [
  {
   "cell_type": "code",
   "execution_count": 7,
   "metadata": {},
   "outputs": [],
   "source": [
    "# import skimage.measure as msr\n",
    "import numpy as np\n",
    "# import matplotlib\n",
    "# import matplotlib.pyplot as plt\n",
    "# import matplotlib.style as style\n",
    "# import pandas as pd\n",
    "# from PIL import Image, ImageCms\n",
    "\n",
    "import glob\n",
    "import os\n",
    "from pathlib import Path\n",
    "# import imageio\n",
    "import cv2"
   ]
  },
  {
   "cell_type": "code",
   "execution_count": 8,
   "metadata": {},
   "outputs": [
    {
     "ename": "ModuleNotFoundError",
     "evalue": "No module named 'skimage'",
     "output_type": "error",
     "traceback": [
      "\u001b[0;31m---------------------------------------------------------------------------\u001b[0m",
      "\u001b[0;31mModuleNotFoundError\u001b[0m                       Traceback (most recent call last)",
      "\u001b[0;32m<ipython-input-8-5eda9a995940>\u001b[0m in \u001b[0;36m<module>\u001b[0;34m\u001b[0m\n\u001b[1;32m      1\u001b[0m \u001b[0;31m# Importing class from wmark.py\u001b[0m\u001b[0;34m\u001b[0m\u001b[0;34m\u001b[0m\u001b[0;34m\u001b[0m\u001b[0m\n\u001b[0;32m----> 2\u001b[0;31m \u001b[0;32mfrom\u001b[0m \u001b[0mwmark\u001b[0m \u001b[0;32mimport\u001b[0m \u001b[0mWaterMark\u001b[0m\u001b[0;34m\u001b[0m\u001b[0;34m\u001b[0m\u001b[0m\n\u001b[0m",
      "\u001b[0;32m~/Documents/GitHub/dft-based-watermarking-method/wmark.py\u001b[0m in \u001b[0;36m<module>\u001b[0;34m\u001b[0m\n\u001b[1;32m     18\u001b[0m \u001b[0;34m\u001b[0m\u001b[0m\n\u001b[1;32m     19\u001b[0m \u001b[0;34m\u001b[0m\u001b[0m\n\u001b[0;32m---> 20\u001b[0;31m \u001b[0;32mimport\u001b[0m \u001b[0mskimage\u001b[0m\u001b[0;34m\u001b[0m\u001b[0;34m\u001b[0m\u001b[0m\n\u001b[0m\u001b[1;32m     21\u001b[0m \u001b[0;32mimport\u001b[0m \u001b[0mskimage\u001b[0m\u001b[0;34m.\u001b[0m\u001b[0mmeasure\u001b[0m \u001b[0;32mas\u001b[0m \u001b[0mmsr\u001b[0m\u001b[0;34m\u001b[0m\u001b[0;34m\u001b[0m\u001b[0m\n\u001b[1;32m     22\u001b[0m \u001b[0;32mimport\u001b[0m \u001b[0mskimage\u001b[0m\u001b[0;34m.\u001b[0m\u001b[0mcolor\u001b[0m \u001b[0;32mas\u001b[0m \u001b[0mcolor\u001b[0m\u001b[0;34m\u001b[0m\u001b[0;34m\u001b[0m\u001b[0m\n",
      "\u001b[0;31mModuleNotFoundError\u001b[0m: No module named 'skimage'"
     ]
    }
   ],
   "source": [
    "# Importing class from wmark.py\n",
    "from wmark import WaterMark"
   ]
  },
  {
   "cell_type": "code",
   "execution_count": null,
   "metadata": {},
   "outputs": [],
   "source": [
    "# Source Directory\n",
    "src_folder = 'TestSet/'\n",
    "# Source Path\n",
    "src_pth = Path(src_folder).resolve()\n",
    "\n",
    "# Destination Directory\n",
    "dst_folder = Path(src_folder+'/marked/').resolve()\n",
    "# Creating folder for marked images\n",
    "Path(dst_folder).mkdir(exist_ok=True)\n",
    "# Destination Path\n",
    "dst_path = Path(dst_folder).resolve()"
   ]
  },
  {
   "cell_type": "code",
   "execution_count": null,
   "metadata": {
    "scrolled": true
   },
   "outputs": [],
   "source": [
    "# Creating empty DataFrames that will fill up during the loop\n",
    "big_corr = pd.DataFrame()\n",
    "\n",
    "for i in range(1, 2):\n",
    "    \n",
    "    # Generating random seed as integer up to 10000\n",
    "    random_nums = np.random.randint(10000, size=(1))\n",
    "    random_num = random_nums[0]\n",
    "    print(random_num)\n",
    "\n",
    "    w_object = WaterMark(random_num)\n",
    "\n",
    "    # All TIF files in the src_path are now imgs\n",
    "    imgs_source = src_pth.glob('*.tif')\n",
    "    \n",
    "    # Creating empty DataFrames that will fill up during the loop\n",
    "    final_corr_original = pd.DataFrame()\n",
    "    \n",
    "    # Creating empty DataFrames that will fill up during the loop\n",
    "    final_corr_marked = pd.DataFrame()\n",
    "    \n",
    "    # Counting the number of images in src_folder\n",
    "    list = os.listdir(src_folder)\n",
    "    # Counting folder as two files?!\n",
    "    num_images = len(list) - 2\n",
    "    \n",
    "    results = np.zeros([num_images, 9])\n",
    "    counter = 0\n",
    "        \n",
    "\n",
    "    for img in imgs_source:\n",
    "    \n",
    "        # Read original image\n",
    "        img_original = WaterMark.imread(img)\n",
    "        \n",
    "        # Find impact factor within a PSNR range\n",
    "        find_impact_factor = w_object.findImpactFactor(img_original, rangePSNR = (35,40))\n",
    "        \n",
    "        # Mark image\n",
    "        img_marked = w_object.embedMark(img_original, factor = find_impact_factor)\n",
    "        # img_name_io = f\"{str(dst_folder)}/marked-{random_num}-{str(img.name)}\"\n",
    "        # imageio.imwrite(img_name_io, img_to_dst)\n",
    "        \n",
    "        \n",
    "        #CROPPING\n",
    "        #CROPPING\n",
    "        #CROPPING\n",
    "        \n",
    "        left, top, right, bottom = 0, 0, 45, 45\n",
    "        img_cropped = img_marked.crop((left, top, right, bottom))\n",
    "        \n",
    "        \n",
    "        #SCALING\n",
    "        #SCALING\n",
    "        #SCALING\n",
    "        \n",
    "        # Wanted value of scaled image (in pixels)\n",
    "        height = 768\n",
    "        width = 768\n",
    "        # Scaling\n",
    "        img_scaled = cv2.resize(img_marked, (width, height))\n",
    "\n",
    "        \n",
    "        #ROTATION\n",
    "        #ROTATION\n",
    "        #ROTATION\n",
    "        \n",
    "        angle = 90\n",
    "        rows, cols = img_marked.shape[:2]\n",
    "        # Defines center if image and angle of rotation\n",
    "        M = cv2.getRotationMatrix2D((cols / 2, rows / 2), angle, 1)\n",
    "        # Defines result image\n",
    "        img_rotated = cv2.warpAffine(img_marked, M, (cols, rows))    \n",
    "\n",
    "        \n",
    "        \n",
    "        # AFFINE TRANSFORMATION\n",
    "        # AFFINE TRANSFORMATION\n",
    "        # AFFINE TRANSFORMATION\n",
    "        \n",
    "        # Defining points in original image\n",
    "        point_1_a = [50, 50]\n",
    "        point_1_b = [200, 50]\n",
    "        point_1_c = [50, 200]\n",
    "        # Defining points in transformed image\n",
    "        point_2_a = [10, 100]\n",
    "        point_2_b = [200, 50]\n",
    "        point_2_c = [100, 250]\n",
    "        \n",
    "        rows, cols, ch = img_marked.shape\n",
    "        # Compiling original points into single array\n",
    "        pts1 = np.float32([point_1_a, point_1_b, point_1_c])\n",
    "        # Compiling transformed points into single array\n",
    "        pts2 = np.float32([point_2_a, point_2_b, point_2_c])\n",
    "        M = cv2.getAffineTransform(pts1, pts2)\n",
    "        img_affined = cv2.warpAffine(img_marked, M, (cols, rows))\n",
    "       \n",
    "        \n",
    "        # 2D CONVOLUTION\n",
    "        # 2D CONVOLUTION\n",
    "        # 2D CONVOLUTION\n",
    "        \n",
    "        # Horizontal deviation (intensity)\n",
    "        kernel_x = 3\n",
    "        # Vertical deviation (intensity)\n",
    "        kernel_y = 3\n",
    "        kernel_x_str = str(kernel_x)\n",
    "        kernel_y_str = str(kernel_y)\n",
    "        kernel_multiplication = kernel_x * kernel_y\n",
    "        \n",
    "        kernel = np.ones((kernel_x, kernel_y), np.float32)/kernel_multiplication\n",
    "        img_convoluted = cv2.filter2D(img_marked, -1, kernel)\n",
    "       \n",
    "        \n",
    "        # GAUSSIAN BLUR\n",
    "        # GAUSSIAN BLUR\n",
    "        # GAUSSIAN BLUR\n",
    "        \n",
    "        # Horizontal deviation (blur intensity)\n",
    "        kernel_x = 3\n",
    "        # Vertical deviation (blur intensity)\n",
    "        kernel_y = 3\n",
    "        kernel_x_str = str(kernel_x)\n",
    "        kernel_y_str = str(kernel_y)\n",
    "        \n",
    "        img_blurred = cv2.GaussianBlur(img_marked, (kernel_x, kernel_y), cv2.BORDER_DEFAULT)\n",
    "  \n",
    "        \n",
    "        # GAUSSIAN NOISE\n",
    "        # GAUSSIAN NOISE\n",
    "        # GAUSSIAN NOISE\n",
    "        \n",
    "        # Wanted value of rotation angle (in degrees)\n",
    "        noise_amount = 0.5\n",
    "        \n",
    "        # Generate Gaussian noise\n",
    "        gauss = np.random.normal(0, noise_amount, img_marked.size)\n",
    "        gauss = gauss.reshape(\n",
    "            img_marked.shape[0], img_marked.shape[1], img_marked.shape[2]).astype('uint8')\n",
    "        # Add the Gaussian noise to the image\n",
    "        img_noised = cv2.add(img_marked, gauss)\n",
    "      \n",
    "        \n",
    "        corr_original = w_object.decodeMark(img_original)\n",
    "        results[counter, 0] = corr_original\n",
    "        \n",
    "        corr_marked = w_object.decodeMark(img_marked)\n",
    "        results[counter, 1] = corr_marked\n",
    "        \n",
    "        corr_scaled = w_object.decodeMark(img_scaled)\n",
    "        results[counter, 2] = corr_scaled\n",
    "        \n",
    "        corr_rotated = w_object.decodeMark(img_rotated)\n",
    "        results[counter, 3] = corr_rotated\n",
    "        \n",
    "        corr_affined = w_object.decodeMark(img_affined)\n",
    "        results[counter, 4] = corr_affined\n",
    "        \n",
    "        corr_convoluted = w_object.decodeMark(img_convoluted)\n",
    "        results[counter, 5] = corr_convoluted\n",
    "        \n",
    "        corr_blurred = w_object.decodeMark(img_blurred)\n",
    "        results[counter, 6] = corr_blurred\n",
    "        \n",
    "        corr_noised = w_object.decodeMark(img_noised)\n",
    "        results[counter, 7] = corr_noised\n",
    "        \n",
    "        counter += 1\n",
    "        \n",
    "        \n",
    "        pandas_values = [\"Cropped\", \"Original\", \"Marked\", \"Scaled\", \"Rotated\", \"Affined\", \"2D Convoluted\", \"Blurred\", \"Noised\"]\n",
    "        pandas_seeds = [f\"{random_num}\", f\"{random_num}\", f\"{random_num}\", f\"{random_num}\", f\"{random_num}\", f\"{random_num}\", f\"{random_num}\", f\"{random_num}\", f\"{random_num}\"]\n",
    "        \n",
    "        final_corr = pd.DataFrame(results, columns = [pandas_seeds, pandas_values])\n",
    "    \n",
    "\n",
    "    big_corr = pd.concat([big_corr, final_corr], axis = 1)"
   ]
  },
  {
   "cell_type": "code",
   "execution_count": null,
   "metadata": {},
   "outputs": [],
   "source": [
    "plt.imshow(img_noised)"
   ]
  },
  {
   "cell_type": "code",
   "execution_count": null,
   "metadata": {
    "scrolled": false
   },
   "outputs": [],
   "source": [
    "# Show Pandas DataFrame\n",
    "big_corr"
   ]
  },
  {
   "cell_type": "code",
   "execution_count": null,
   "metadata": {
    "scrolled": true
   },
   "outputs": [],
   "source": [
    "stacked_dataframe = big_corr.stack(0)"
   ]
  },
  {
   "cell_type": "code",
   "execution_count": null,
   "metadata": {
    "scrolled": true
   },
   "outputs": [],
   "source": [
    "stacked_dataframe"
   ]
  },
  {
   "cell_type": "code",
   "execution_count": null,
   "metadata": {},
   "outputs": [],
   "source": [
    "big_corr.describe()"
   ]
  },
  {
   "cell_type": "code",
   "execution_count": null,
   "metadata": {
    "scrolled": true
   },
   "outputs": [],
   "source": [
    "plt.style.use('fivethirtyeight')\n",
    "\n",
    "stacked_dataframe.plot(kind = 'bar', stacked = False, legend = True)\n",
    "plt.show()"
   ]
  },
  {
   "cell_type": "code",
   "execution_count": null,
   "metadata": {},
   "outputs": [],
   "source": [
    "stacked_dataframe.plot.hist(legend = True)"
   ]
  },
  {
   "cell_type": "code",
   "execution_count": null,
   "metadata": {},
   "outputs": [],
   "source": []
  }
 ],
 "metadata": {
  "kernelspec": {
   "display_name": "Python 3",
   "language": "python",
   "name": "python3"
  },
  "language_info": {
   "codemirror_mode": {
    "name": "ipython",
    "version": 3
   },
   "file_extension": ".py",
   "mimetype": "text/x-python",
   "name": "python",
   "nbconvert_exporter": "python",
   "pygments_lexer": "ipython3",
   "version": "3.7.3"
  }
 },
 "nbformat": 4,
 "nbformat_minor": 2
}
